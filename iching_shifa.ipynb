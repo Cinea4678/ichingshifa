{
  "cells": [
    {
      "metadata": {
        "trusted": true
      },
      "cell_type": "code",
      "source": "import pickle, random\n\ndef multi_key_dict_get(d, k):\n    for keys, v in d.items():\n        if k in keys:\n            return v\n    return None\n\nsixtyfourgua = pickle.load( open( \"data/sixtyfourgua.pkl\", \"rb\" ) )#64卦、4096種卦爻組合資料庫，爻由底(左)至上(右)起\nsixtyfourgua_description =  pickle.load( open( \"data/sixtyfourgua_description.pkl\", \"rb\" ) )\ndef bookgua(): #由底至上起爻\n    shifa_results = []\n    for i in range(6):\n        n=2 \n        stalks_first = 50-1 #一變 (分二、掛一、揲四、歸奇)\n        dividers = sorted(random.sample(range(1, stalks_first), n - 1))\n        first_division  = [a - b for a, b in zip(dividers + [stalks_first], [0] + dividers)]\n        guayi = 1\n        right = first_division[0] - guayi\n        left_extract = first_division[1] % 4 \n        if left_extract == 0:\n            left_extract = 4\n        right_extract = right % 4\n        if right_extract == 0:\n            right_extract = 4\n        yibian  = left_extract + right_extract + guayi #二變 (分二、掛一、揲四、歸奇)\n        stalks_second = stalks_first - yibian\n        second_dividers = sorted(random.sample(range(1, stalks_second), n - 1))\n        second_division  = [a - b for a, b in zip(second_dividers + [stalks_second], [0] + second_dividers)]\n        right_second = second_division[0] - guayi\n        left_extract_second = second_division[1] % 4 \n        if left_extract_second == 0:\n            left_extract_second = 4\n        right_extract_second = right_second % 4 \n        if right_extract_second == 0:\n            right_extract_second = 4\n        erbian = left_extract_second + right_extract_second + guayi #三變 (分二、掛一、揲四、歸奇)\n        stalks_third = stalks_second - erbian\n        third_dividers = sorted(random.sample(range(1, stalks_third), n - 1))\n        third_division  = [a - b for a, b in zip(third_dividers + [stalks_third], [0] + third_dividers)]\n        right_third = third_division[0] - guayi\n        left_extract_third = third_division[1] % 4\n        if left_extract_third  == 0:\n            left_extract_third = 4\n        right_extract_third = right_third % 4 \n        if right_extract_third == 0:\n            right_extract_third = 4\n        sanbian = left_extract_third + right_extract_third + guayi\n        yao = int((stalks_first - yibian - erbian - sanbian) / 4)\n        shifa_results.append(yao)\n    return str(shifa_results[0]) + str(shifa_results[1]) + str(shifa_results[2]) + str(shifa_results[3]) + str(shifa_results[4]) + str(shifa_results[5])\n\ndef bookgua_details():\n    guayao = bookgua()\n    getgua = multi_key_dict_get(sixtyfourgua, guayao)\n    yao_results = sixtyfourgua_description.get(getgua)\n    bian_yao = guayao.replace(\"6\",\"1\").replace(\"9\",\"1\").replace(\"7\",\"0\").replace(\"8\",\"0\")\n    dong_yao = bian_yao.count(\"1\")\n    explain = \"動爻有【\"+str(dong_yao )+\"】根。\"\n    dong_yao_change = guayao.replace(\"6\",\"7\").replace(\"9\",\"8\")\n    g_gua = multi_key_dict_get(sixtyfourgua, dong_yao_change)\n    g_gua_result = sixtyfourgua_description.get(g_gua)\n    b_gua_n_g_gua = \"【\"+getgua+\"之\"+g_gua+\"】\"\n    top_bian_yao = bian_yao.rfind(\"1\")+int(1)\n    second_bian_yao = bian_yao.rfind(\"1\",0, bian_yao.rfind(\"1\"))+int(1)\n    top_jing_yao = bian_yao.rfind(\"0\") + int(1)\n    second_jing_yao = bian_yao.rfind(\"0\", 0, bian_yao.rfind(\"0\"))+int(1)\n    top = yao_results.get(top_bian_yao)\n    second = yao_results.get(second_bian_yao)\n    top_2 = yao_results.get(top_jing_yao)\n    second_2 = yao_results.get(second_jing_yao)\n    explaination2 = None\n    try:\n        if dong_yao == 0:\n            explaination2 = \"主要看【\"+getgua+\"】卦卦辭。\",  yao_results[0]\n        elif dong_yao == 1: \n            explaination2 = b_gua_n_g_gua, \"主要看【\"+top[0]+top[1]+\"】\",  top\n        elif dong_yao == 2:\n            explaination2 = b_gua_n_g_gua, \"主要看【\"+top[0]+top[1]+\"】，其次看【\"+second[0]+second[1]+\"】。\", top, second\n        elif dong_yao == 3:\n            if bian_yao.find(\"1\") == 0:\n                explaination2 = b_gua_n_g_gua, \"【\"+getgua+\"】卦為貞(我方)，【\"+g_gua+\"】卦為悔(他方)。主悔【\"+g_gua+\"】卦\", g_gua_result[0],  yao_results[0]\n            elif bian_yao.find(\"1\") > 0:\n                explaination2 = b_gua_n_g_gua, \"【\"+getgua+\"】卦為貞(我方)，【\"+g_gua+\"】卦為悔(他方)。主貞【\"+getgua+\"】卦\", yao_results[0], g_gua_result[0]\n        elif dong_yao == 4:\n            explaination2 = b_gua_n_g_gua, \"主要看【\"+g_gua+\"】的\"+g_gua_result.get(second_jing_yao)[0]+g_gua_result.get(second_jing_yao)[1]+\"，其次看\"+g_gua_result.get(top_jing_yao)[0]+g_gua_result.get(top_jing_yao)[1]+\"。\", g_gua_result.get(second_jing_yao), g_gua_result.get(top_jing_yao)\n        elif dong_yao == 5:    \n            explaination2 = b_gua_n_g_gua, \"主要看【\"+g_gua+\"】的\"+g_gua_result.get(top_jing_yao)[0]+g_gua_result.get(top_jing_yao)[1]+\"。\", g_gua_result.get(top_jing_yao)\n        elif dong_yao == 6:\n            explaination2 = b_gua_n_g_gua, \"主要看【\"+g_gua+\"】卦的彖辭。\", g_gua_result[6]\n    except (TypeError, UnboundLocalError):\n        pass\n    return  guayao, getgua, yao_results, explain, explaination2",
      "execution_count": 14,
      "outputs": []
    },
    {
      "metadata": {
        "trusted": true
      },
      "cell_type": "code",
      "source": "bookgua_details()",
      "execution_count": 16,
      "outputs": [
        {
          "output_type": "execute_result",
          "execution_count": 16,
          "data": {
            "text/plain": "('877888',\n '升',\n {0: '元亨，用見大人，勿恤，南征吉。',\n  1: '初六：允升，大吉。',\n  2: '九二：孚乃利用禴，無咎。',\n  3: '九三：升虛邑。',\n  4: '六四：王用亨於岐山，吉無咎。',\n  5: '六五：貞吉，升階。',\n  6: '上六：冥升，利於不息之貞。',\n  7: '彖︰柔以時升，巽而順，剛中而應，是以大亨；用見大人，勿恤，有慶也；南征吉，志行也。'},\n '動爻有【0】根。',\n ('主要看【升】卦卦辭。', '元亨，用見大人，勿恤，南征吉。'))"
          },
          "metadata": {}
        }
      ]
    },
    {
      "metadata": {
        "trusted": true
      },
      "cell_type": "code",
      "source": "",
      "execution_count": null,
      "outputs": []
    }
  ],
  "metadata": {
    "kernelspec": {
      "name": "python36",
      "display_name": "Python 3.6",
      "language": "python"
    },
    "language_info": {
      "mimetype": "text/x-python",
      "nbconvert_exporter": "python",
      "name": "python",
      "pygments_lexer": "ipython3",
      "version": "3.6.6",
      "file_extension": ".py",
      "codemirror_mode": {
        "version": 3,
        "name": "ipython"
      }
    }
  },
  "nbformat": 4,
  "nbformat_minor": 1
}