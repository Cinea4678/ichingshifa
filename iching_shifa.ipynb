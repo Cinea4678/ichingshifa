{
  "cells": [
    {
      "metadata": {
        "trusted": true
      },
      "cell_type": "code",
      "source": "import numpy as np\nimport pickle\n\ndef multi_key_dict_get(d, k):\n    for keys, v in d.items():\n        if k in keys:\n            return v\n    return None\n\n#64卦、4096種卦爻組合資料庫，爻由底(左)至上(右)起\nsixtyfourgua = pickle.load( open( \"data/sixtyfourgua.pkl\", \"rb\" ) )\nsixtyfourgua_description =  pickle.load( open( \"data/sixtyfourgua_description.pkl\", \"rb\" ) )\ndef bookgua(): #由底至上起爻\n    shifa_results = []\n    for i in range(6):\n        n=2\n        #掛一\n        stalks_first = 50-1\n        #一變 (分二、掛一、揲四、歸奇)\n        first_division = np.random.multinomial(stalks_first, np.ones(n)/2, size=1)[0]\n        guayi = 1\n        right = first_division[0] - guayi\n        left_extract = first_division[1] % 4 \n        if left_extract == 0:\n            left_extract = 4\n        right_extract = right % 4\n        if right_extract == 0:\n            right_extract = 4\n        yibian  = left_extract + right_extract + guayi\n        #二變 (分二、掛一、揲四、歸奇)\n        stalks_second = stalks_first - yibian\n        second_division = np.random.multinomial(stalks_second, np.ones(n)/2, size=1)[0]\n        right_second = second_division[0] - guayi\n        left_extract_second = second_division[1] % 4 \n        if left_extract_second == 0:\n            left_extract_second = 4\n        right_extract_second = right_second % 4 \n        if right_extract_second == 0:\n            right_extract_second = 4\n        erbian = left_extract_second + right_extract_second + guayi\n        #三變 (分二、掛一、揲四、歸奇)\n        stalks_third = stalks_second - erbian\n        third_division = np.random.multinomial(stalks_third, np.ones(n)/2, size=1)[0]\n        right_third = third_division[0] - guayi\n        left_extract_third = third_division[1] % 4\n        if left_extract_third  == 0:\n            left_extract_third = 4\n        right_extract_third = right_third % 4 \n        if right_extract_third == 0:\n            right_extract_third = 4\n        sanbian = left_extract_third + right_extract_third + guayi\n        yao = int((stalks_first - yibian - erbian - sanbian) / 4)\n        shifa_results.append(yao)\n    return str(shifa_results[0]) + str(shifa_results[1]) + str(shifa_results[2]) + str(shifa_results[3]) + str(shifa_results[4]) + str(shifa_results[5])\n\ndef bookgua_details():\n    guayao = bookgua()\n    getgua = multi_key_dict_get(sixtyfourgua, guayao)\n    yao_results = sixtyfourgua_description.get(getgua)\n    bian_yao = guayao.replace(\"6\",\"1\").replace(\"9\",\"1\").replace(\"7\",\"0\").replace(\"8\",\"0\")\n    dong_yao = bian_yao.count(\"1\")\n    explain = \"動爻有【\"+str(dong_yao )+\"】根。\"\n    dong_yao_change = guayao.replace(\"6\",\"7\").replace(\"9\",\"8\")\n    dong_yao_bian_gua = multi_key_dict_get(sixtyfourgua, dong_yao_change)\n    g_gua_result = sixtyfourgua_description.get(dong_yao_bian_gua)\n    g_gua = \"【\"+getgua+\"之\"+dong_yao_bian_gua+\"】\"\n    top_bian_yao = bian_yao.rfind(\"1\")+int(1)\n    second_bian_yao = bian_yao.rfind(\"1\",0, bian_yao.rfind(\"1\"))+int(1)\n    top_jing_yao = bian_yao.rfind(\"0\") + int(1)\n    second_jing_yao = bian_yao.rfind(\"0\", 0, bian_yao.rfind(\"0\"))+int(1)\n    top = yao_results.get(top_bian_yao)\n    second = yao_results.get(second_bian_yao)\n    top_2 = yao_results.get(top_jing_yao)\n    second_2 = yao_results.get(second_jing_yao)\n    explaination2 = None\n    try:\n        if dong_yao == 0:\n            explaination2 = \"主要看【\"+getgua+\"】卦卦辭。\",  yao_results[0]\n        elif dong_yao == 1: \n            explaination2 = g_gua, \"主要看【\"+top[0]+top[1]+\"】\",  top\n        elif dong_yao == 2:\n            explaination2 = g_gua, \"主要看【\"+top[0]+top[1]+\"】，其次看【\"+second[0]+second[1]+\"】。\", top, second\n        elif dong_yao == 3:\n            if bian_yao.find(\"1\") == 0:\n                explaination2 = g_gua, \"【\"+getgua+\"】卦為貞(我方)，【\"+dong_yao_bian_gua+\"】卦為悔(他方)。主悔【\"+dong_yao_bian_gua+\"】卦\", g_gua_result[0],  yao_results[0]\n            elif bian_yao.find(\"1\") > 0:\n                explaination2 = g_gua, \"【\"+getgua+\"】卦為貞(我方)，【\"+dong_yao_bian_gua+\"】卦為悔(他方)。主貞【\"+getgua+\"】卦\", yao_results[0], g_gua_result[0]\n        elif dong_yao == 4:\n            explaination2 = g_gua, \"主要看【\"+getgua+\"】的\"+second_2[0]+second_2[1]+\"，其次看【\"+getgua+\"】的\"+top_2[0]+top_2[1]+\"。\", second_2, top_2\n        elif dong_yao == 5:    \n            explaination2 = g_gua, \"主要看【\"+getgua+\"】的\"+top_2[0]+top_2[1]+\"。\",  top_2\n        elif dong_yao == 6:\n            explaination2 = g_gua, \"主要看【\"+dong_yao_bian_gua+\"】卦的彖辭。\", g_gua_result[6]\n    except (TypeError, UnboundLocalError):\n        pass\n    return  guayao, getgua, yao_results, explain, explaination2\n",
      "execution_count": 12,
      "outputs": []
    },
    {
      "metadata": {
        "trusted": true
      },
      "cell_type": "code",
      "source": "bookgua_details()",
      "execution_count": 13,
      "outputs": [
        {
          "output_type": "execute_result",
          "execution_count": 13,
          "data": {
            "text/plain": "('699978',\n '大過',\n {0: '棟橈，利有攸往，亨。',\n  1: '初六：藉用白茅，無咎。',\n  2: '九二：枯楊生稊，老夫得其女妻，無不利。',\n  3: '九三：棟橈，凶。',\n  4: '九四：棟隆，吉﹔有它吝。',\n  5: '九五：枯楊生華，老婦得士夫，無咎無譽。',\n  6: '上六：過涉滅頂，凶，無咎。',\n  7: '彖︰大過，大者過也。棟橈，本末弱也。剛過而中，巽而說行，利有攸往，乃亨，大過之時大矣哉。'},\n '動爻有【4】根。',\n ('【大過之屯】', '主要看【大過】的九五，其次看【大過】的上六。', '九五：枯楊生華，老婦得士夫，無咎無譽。', '上六：過涉滅頂，凶，無咎。'))"
          },
          "metadata": {}
        }
      ]
    },
    {
      "metadata": {
        "trusted": true
      },
      "cell_type": "code",
      "source": "",
      "execution_count": null,
      "outputs": []
    }
  ],
  "metadata": {
    "kernelspec": {
      "name": "python36",
      "display_name": "Python 3.6",
      "language": "python"
    },
    "language_info": {
      "mimetype": "text/x-python",
      "nbconvert_exporter": "python",
      "name": "python",
      "pygments_lexer": "ipython3",
      "version": "3.6.6",
      "file_extension": ".py",
      "codemirror_mode": {
        "version": 3,
        "name": "ipython"
      }
    }
  },
  "nbformat": 4,
  "nbformat_minor": 1
}