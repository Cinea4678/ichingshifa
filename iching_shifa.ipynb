{
  "cells": [
    {
      "metadata": {
        "trusted": true
      },
      "cell_type": "code",
      "source": "import pickle, random\n\n(sixtyfourgua, sixtyfourgua_description) = (pickle.load( open( \"data/sixtyfourgua.pkl\", \"rb\" )), pickle.load( open( \"data/sixtyfourgua_description.pkl\", \"rb\")))#64卦、4096種卦爻組合資料庫，爻由底(左)至上(右)起\n\ndef multi_key_dict_get(d, k):\n    for keys, v in d.items():\n        if k in keys:\n            return v\n    return None\n\ndef bookgua(): #由底至上起爻\n    shifa_results = []\n    for i in range(6):\n        stalks_first = 50-1 #一變 (分二、掛一、揲四、歸奇)\n        dividers = sorted(random.sample(range(24, stalks_first), 1))\n        first_division  = [a - b for a, b in zip(dividers + [stalks_first+10], [10] + dividers)]\n        guayi = 1\n        right = first_division[0] - guayi\n        left_extract = first_division[1] % 4 \n        if left_extract == 0:\n            left_extract = 4\n        right_extract = right % 4\n        if right_extract == 0:\n            right_extract = 4\n        yibian  = left_extract + right_extract + guayi #二變 (分二、掛一、揲四、歸奇)\n        stalks_second = stalks_first - yibian\n        second_dividers = sorted(random.sample(range(12, stalks_second), 1))\n        second_division  = [a - b for a, b in zip(second_dividers + [stalks_second+5], [5] + second_dividers)]\n        right_second = second_division[0] - guayi\n        left_extract_second = second_division[1] % 4 \n        if left_extract_second == 0:\n            left_extract_second = 4\n        right_extract_second = right_second % 4 \n        if right_extract_second == 0:\n            right_extract_second = 4\n        erbian = left_extract_second + right_extract_second + guayi #三變 (分二、掛一、揲四、歸奇)\n        stalks_third = stalks_second - erbian\n        third_dividers = sorted(random.sample(range(6, stalks_third), 1))\n        third_division  = [a - b for a, b in zip(third_dividers + [stalks_third+3], [3] + third_dividers)]\n        right_third = third_division[0] - guayi\n        left_extract_third = third_division[1] % 4\n        if left_extract_third  == 0:\n            left_extract_third = 4\n        right_extract_third = right_third % 4 \n        if right_extract_third == 0:\n            right_extract_third = 4\n        sanbian = left_extract_third + right_extract_third + guayi\n        yao = int((stalks_first - yibian - erbian - sanbian) / 4)\n        shifa_results.append(yao)\n    return \"\".join(str(e) for e in shifa_results[:6])\n\ndef bookgua_details():\n    guayao = bookgua()\n    getgua = multi_key_dict_get(sixtyfourgua, guayao)\n    yao_results = sixtyfourgua_description.get(getgua)\n    bian_yao = guayao.replace(\"6\",\"1\").replace(\"9\",\"1\").replace(\"7\",\"0\").replace(\"8\",\"0\")\n    dong_yao = bian_yao.count(\"1\")\n    explaination = \"動爻有【\"+str(dong_yao )+\"】根。\"\n    dong_yao_change = guayao.replace(\"6\",\"7\").replace(\"9\",\"8\")\n    g_gua = multi_key_dict_get(sixtyfourgua, dong_yao_change)\n    g_gua_result = sixtyfourgua_description.get(g_gua)\n    b_gua_n_g_gua = \"【\"+getgua+\"之\"+g_gua+\"】\"\n    top_bian_yao = bian_yao.rfind(\"1\")+int(1)\n    second_bian_yao = bian_yao.rfind(\"1\",0, bian_yao.rfind(\"1\"))+int(1)\n    top_jing_yao = bian_yao.rfind(\"0\") + int(1)\n    second_jing_yao = bian_yao.rfind(\"0\", 0, bian_yao.rfind(\"0\"))+int(1)\n    top = yao_results.get(top_bian_yao)\n    second = yao_results.get(second_bian_yao)\n    top_2 = yao_results.get(top_jing_yao)\n    second_2 = yao_results.get(second_jing_yao)\n    explaination2 = None\n    try:\n        if dong_yao == 0:\n            explaination2 = \"主要看【\"+getgua+\"】卦彖辭。\",  yao_results[7][2:]\n        elif dong_yao == 1: \n            explaination2 = b_gua_n_g_gua, \"主要看【\"+top[:2]+\"】\",  top\n        elif dong_yao == 2:\n            explaination2 = b_gua_n_g_gua, \"主要看【\"+top[:2]+\"】，其次看【\"+second[:2]+\"】。\", top, second\n        elif dong_yao == 3:\n            if bian_yao.find(\"1\") == 0:\n                explaination2 = b_gua_n_g_gua, \"【\"+getgua+\"】卦為貞(我方)，【\"+g_gua+\"】卦為悔(他方)。主悔【\"+g_gua+\"】卦，請參考兩卦彖辭\", g_gua_result[7][2:],  yao_results[7][2:]\n            elif bian_yao.find(\"1\") > 0:\n                explaination2 = b_gua_n_g_gua, \"【\"+getgua+\"】卦為貞(我方)，【\"+g_gua+\"】卦為悔(他方)。主貞【\"+getgua+\"】卦，請參考兩卦彖辭\", yao_results[7][2:], g_gua_result[7][2:]\n        elif dong_yao == 4:\n            explaination2 = b_gua_n_g_gua, \"主要看【\"+g_gua+\"】的\"+g_gua_result.get(second_jing_yao)[:2]+\"，其次看\"+g_gua_result.get(top_jing_yao)[:2]+\"。\", g_gua_result.get(second_jing_yao), g_gua_result.get(top_jing_yao)\n        elif dong_yao == 5:    \n            explaination2 = b_gua_n_g_gua, \"主要看【\"+g_gua+\"】的\"+g_gua_result.get(top_jing_yao)[:2]+\"。\", g_gua_result.get(top_jing_yao)\n        elif dong_yao == 6:\n            explaination2 = b_gua_n_g_gua, \"主要看【\"+g_gua+\"】卦的彖辭。\", g_gua_result[7][2:]\n    except (TypeError, UnboundLocalError):\n        pass\n    return  guayao, getgua, yao_results, explaination, explaination2",
      "execution_count": 70,
      "outputs": []
    },
    {
      "metadata": {
        "trusted": true
      },
      "cell_type": "code",
      "source": "bookgua_details()",
      "execution_count": 75,
      "outputs": [
        {
          "output_type": "execute_result",
          "execution_count": 75,
          "data": {
            "text/plain": "('887999',\n '遯',\n {0: '亨，小利貞。',\n  1: '初六：遯尾，厲，勿用有攸往。',\n  2: '六二：執之用黃牛之革，莫之勝說。',\n  3: '九三：系遯，有疾厲，畜臣妾吉。',\n  4: '九四：好遯君子吉，小人否。',\n  5: '九五：嘉遯，貞吉。',\n  6: '上九：肥遯，無不利。',\n  7: '彖︰遯亨，遯而亨也。剛當位而應，與時行也。小利貞，浸而長也。遯之時義大矣哉。'},\n '動爻有【3】根。',\n ('【遯之謙】',\n  '【遯】卦為貞(我方)，【謙】卦為悔(他方)。主貞【遯】卦，請參考兩卦彖辭',\n  '遯亨，遯而亨也。剛當位而應，與時行也。小利貞，浸而長也。遯之時義大矣哉。',\n  '謙，亨，天道下濟而光明，地道卑而上行。天道虧盈而益謙，地道變盈而流謙，鬼神害盈而福謙，人道惡盈而好謙。謙尊而光，卑而不可踰，君子之終也。'))"
          },
          "metadata": {}
        }
      ]
    },
    {
      "metadata": {
        "trusted": true
      },
      "cell_type": "code",
      "source": "",
      "execution_count": null,
      "outputs": []
    }
  ],
  "metadata": {
    "kernelspec": {
      "name": "python36",
      "display_name": "Python 3.6",
      "language": "python"
    },
    "language_info": {
      "mimetype": "text/x-python",
      "nbconvert_exporter": "python",
      "name": "python",
      "pygments_lexer": "ipython3",
      "version": "3.6.6",
      "file_extension": ".py",
      "codemirror_mode": {
        "version": 3,
        "name": "ipython"
      }
    }
  },
  "nbformat": 4,
  "nbformat_minor": 1
}